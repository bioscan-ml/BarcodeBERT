{
 "cells": [
  {
   "cell_type": "markdown",
   "id": "d1ffcc44-0615-4a36-b36b-d12d8d69739b",
   "metadata": {},
   "source": [
    "# KNN Comparsion of Different Transformer Models"
   ]
  },
  {
   "cell_type": "code",
   "execution_count": 1,
   "id": "513070a3-b164-40cd-a5bf-12a4f7ddb9b8",
   "metadata": {},
   "outputs": [
    {
     "name": "stdout",
     "output_type": "stream",
     "text": [
      "Using device: cuda\n",
      "\n",
      "Loading model from /h/pmillana/projects/BIOSCAN_5M_DNA_experiments/model_checkpoints/8_4_4/checkpoint_pretraining.pt\n",
      "\n",
      "Loading model from /h/pmillana/projects/BIOSCAN_5M_DNA_experiments/model_checkpoints/8_4_4/checkpoint_pretraining.pt\n",
      "Loaded model from /h/pmillana/projects/BIOSCAN_5M_DNA_experiments/model_checkpoints/8_4_4/checkpoint_pretraining.pt\n",
      "BarcodeBERT-5M\n",
      "Number of trainable parameters: 129478144\n",
      "Using device: cuda\n",
      "Calculating embeddings for BarcodeBERT\n",
      "/scratch/ssd004/scratch/pmillana/embeddings/embeddings/BIOSCAN-5M/BarcodeBERT/unseen.pickle\n"
     ]
    },
    {
     "data": {
      "application/vnd.jupyter.widget-view+json": {
       "model_id": "b1c920877d9543ddb5130ef6cba0bc97",
       "version_major": 2,
       "version_minor": 0
      },
      "text/plain": [
       "0it [00:00, ?it/s]"
      ]
     },
     "metadata": {},
     "output_type": "display_data"
    },
    {
     "name": "stdout",
     "output_type": "stream",
     "text": [
      "(3396, 768)\n",
      "Using device: cuda\n",
      "Calculating embeddings for BarcodeBERT\n",
      "/scratch/ssd004/scratch/pmillana/embeddings/embeddings/BIOSCAN-5M/BarcodeBERT/supervised_train.pickle\n"
     ]
    },
    {
     "data": {
      "application/vnd.jupyter.widget-view+json": {
       "model_id": "c464a990f02a4995a12a298aa0fc2198",
       "version_major": 2,
       "version_minor": 0
      },
      "text/plain": [
       "0it [00:00, ?it/s]"
      ]
     },
     "metadata": {},
     "output_type": "display_data"
    },
    {
     "name": "stdout",
     "output_type": "stream",
     "text": [
      "(117991, 768)\n",
      "Using device: cuda\n",
      "Calculating embeddings for BarcodeBERT\n",
      "/scratch/ssd004/scratch/pmillana/embeddings/embeddings/BIOSCAN-5M/BarcodeBERT/supervised_test.pickle\n"
     ]
    },
    {
     "data": {
      "application/vnd.jupyter.widget-view+json": {
       "model_id": "56e5825fd9cf4e18b2edb9317bf684f2",
       "version_major": 2,
       "version_minor": 0
      },
      "text/plain": [
       "0it [00:00, ?it/s]"
      ]
     },
     "metadata": {},
     "output_type": "display_data"
    },
    {
     "name": "stdout",
     "output_type": "stream",
     "text": [
      "(18348, 768)\n",
      "Using device: cuda\n",
      "Calculating embeddings for BarcodeBERT\n",
      "/scratch/ssd004/scratch/pmillana/embeddings/embeddings/BIOSCAN-5M/BarcodeBERT/supervised_val.pickle\n"
     ]
    },
    {
     "data": {
      "application/vnd.jupyter.widget-view+json": {
       "model_id": "39ba7d625252409d958b0a3eea0938fe",
       "version_major": 2,
       "version_minor": 0
      },
      "text/plain": [
       "0it [00:00, ?it/s]"
      ]
     },
     "metadata": {},
     "output_type": "display_data"
    },
    {
     "name": "stdout",
     "output_type": "stream",
     "text": [
      "(6585, 768)\n"
     ]
    },
    {
     "name": "stderr",
     "output_type": "stream",
     "text": [
      "/h/pmillana/miniconda3/envs/hyenadna/lib/python3.11/site-packages/huggingface_hub/file_download.py:1132: FutureWarning: `resume_download` is deprecated and will be removed in version 1.0.0. Downloads always resume when possible. If you want to force a new download, use `force_download=True`.\n",
      "  warnings.warn(\n",
      "/fs01/home/pmillana/projects/BarcodeBERT/baselines/models/dnabert2.py:203: UserWarning: Unable to import Triton; defaulting MosaicBERT attention                 implementation to pytorch (this will reduce throughput when using this model).\n",
      "  self.self = BertUnpadSelfAttention(config)\n"
     ]
    },
    {
     "name": "stdout",
     "output_type": "stream",
     "text": [
      "Number of trainable parameters: 117068544\n",
      "Using device: cuda\n",
      "Calculating embeddings for DNABERT-2\n",
      "/scratch/ssd004/scratch/pmillana/embeddings/embeddings/BIOSCAN-5M/DNABERT-2/unseen.pickle\n",
      "We found the file /scratch/ssd004/scratch/pmillana/embeddings/embeddings/BIOSCAN-5M/DNABERT-2/unseen.pickle. It seems that we have computed the embeddings ... \n",
      "\n",
      "Loading the embeddings from that file\n",
      "(3396, 768)\n",
      "Using device: cuda\n",
      "Calculating embeddings for DNABERT-2\n",
      "/scratch/ssd004/scratch/pmillana/embeddings/embeddings/BIOSCAN-5M/DNABERT-2/supervised_train.pickle\n",
      "We found the file /scratch/ssd004/scratch/pmillana/embeddings/embeddings/BIOSCAN-5M/DNABERT-2/supervised_train.pickle. It seems that we have computed the embeddings ... \n",
      "\n",
      "Loading the embeddings from that file\n",
      "(117991, 768)\n",
      "Using device: cuda\n",
      "Calculating embeddings for DNABERT-2\n",
      "/scratch/ssd004/scratch/pmillana/embeddings/embeddings/BIOSCAN-5M/DNABERT-2/supervised_test.pickle\n",
      "We found the file /scratch/ssd004/scratch/pmillana/embeddings/embeddings/BIOSCAN-5M/DNABERT-2/supervised_test.pickle. It seems that we have computed the embeddings ... \n",
      "\n",
      "Loading the embeddings from that file\n",
      "(18348, 768)\n",
      "Using device: cuda\n",
      "Calculating embeddings for DNABERT-2\n",
      "/scratch/ssd004/scratch/pmillana/embeddings/embeddings/BIOSCAN-5M/DNABERT-2/supervised_val.pickle\n",
      "We found the file /scratch/ssd004/scratch/pmillana/embeddings/embeddings/BIOSCAN-5M/DNABERT-2/supervised_val.pickle. It seems that we have computed the embeddings ... \n",
      "\n",
      "Loading the embeddings from that file\n",
      "(6585, 768)\n",
      "Number of trainable parameters: 117068544\n",
      "Using device: cuda\n",
      "Calculating embeddings for DNABERT-S\n",
      "/scratch/ssd004/scratch/pmillana/embeddings/embeddings/BIOSCAN-5M/DNABERT-S/unseen.pickle\n",
      "We found the file /scratch/ssd004/scratch/pmillana/embeddings/embeddings/BIOSCAN-5M/DNABERT-S/unseen.pickle. It seems that we have computed the embeddings ... \n",
      "\n",
      "Loading the embeddings from that file\n",
      "(3396, 768)\n",
      "Using device: cuda\n",
      "Calculating embeddings for DNABERT-S\n",
      "/scratch/ssd004/scratch/pmillana/embeddings/embeddings/BIOSCAN-5M/DNABERT-S/supervised_train.pickle\n",
      "We found the file /scratch/ssd004/scratch/pmillana/embeddings/embeddings/BIOSCAN-5M/DNABERT-S/supervised_train.pickle. It seems that we have computed the embeddings ... \n",
      "\n",
      "Loading the embeddings from that file\n",
      "(117991, 768)\n",
      "Using device: cuda\n",
      "Calculating embeddings for DNABERT-S\n",
      "/scratch/ssd004/scratch/pmillana/embeddings/embeddings/BIOSCAN-5M/DNABERT-S/supervised_test.pickle\n",
      "We found the file /scratch/ssd004/scratch/pmillana/embeddings/embeddings/BIOSCAN-5M/DNABERT-S/supervised_test.pickle. It seems that we have computed the embeddings ... \n",
      "\n",
      "Loading the embeddings from that file\n",
      "(18348, 768)\n",
      "Using device: cuda\n",
      "Calculating embeddings for DNABERT-S\n",
      "/scratch/ssd004/scratch/pmillana/embeddings/embeddings/BIOSCAN-5M/DNABERT-S/supervised_val.pickle\n",
      "We found the file /scratch/ssd004/scratch/pmillana/embeddings/embeddings/BIOSCAN-5M/DNABERT-S/supervised_val.pickle. It seems that we have computed the embeddings ... \n",
      "\n",
      "Loading the embeddings from that file\n",
      "(6585, 768)\n",
      "Number of trainable parameters: 55904972\n",
      "Using device: cuda\n",
      "Calculating embeddings for NT\n",
      "/scratch/ssd004/scratch/pmillana/embeddings/embeddings/BIOSCAN-5M/NT/unseen.pickle\n",
      "We found the file /scratch/ssd004/scratch/pmillana/embeddings/embeddings/BIOSCAN-5M/NT/unseen.pickle. It seems that we have computed the embeddings ... \n",
      "\n",
      "Loading the embeddings from that file\n",
      "(3396, 512)\n",
      "Using device: cuda\n",
      "Calculating embeddings for NT\n",
      "/scratch/ssd004/scratch/pmillana/embeddings/embeddings/BIOSCAN-5M/NT/supervised_train.pickle\n",
      "We found the file /scratch/ssd004/scratch/pmillana/embeddings/embeddings/BIOSCAN-5M/NT/supervised_train.pickle. It seems that we have computed the embeddings ... \n",
      "\n",
      "Loading the embeddings from that file\n",
      "(117991, 512)\n",
      "Using device: cuda\n",
      "Calculating embeddings for NT\n",
      "/scratch/ssd004/scratch/pmillana/embeddings/embeddings/BIOSCAN-5M/NT/supervised_test.pickle\n",
      "We found the file /scratch/ssd004/scratch/pmillana/embeddings/embeddings/BIOSCAN-5M/NT/supervised_test.pickle. It seems that we have computed the embeddings ... \n",
      "\n",
      "Loading the embeddings from that file\n",
      "(18348, 512)\n",
      "Using device: cuda\n",
      "Calculating embeddings for NT\n",
      "/scratch/ssd004/scratch/pmillana/embeddings/embeddings/BIOSCAN-5M/NT/supervised_val.pickle\n",
      "We found the file /scratch/ssd004/scratch/pmillana/embeddings/embeddings/BIOSCAN-5M/NT/supervised_val.pickle. It seems that we have computed the embeddings ... \n",
      "\n",
      "Loading the embeddings from that file\n",
      "(6585, 512)\n",
      "Loaded pretrained weights ok!\n",
      "Number of trainable parameters: 436096\n",
      "Using device: cuda\n",
      "Calculating embeddings for Hyena_DNA\n",
      "/scratch/ssd004/scratch/pmillana/embeddings/embeddings/BIOSCAN-5M/Hyena_DNA/unseen.pickle\n",
      "We found the file /scratch/ssd004/scratch/pmillana/embeddings/embeddings/BIOSCAN-5M/Hyena_DNA/unseen.pickle. It seems that we have computed the embeddings ... \n",
      "\n",
      "Loading the embeddings from that file\n",
      "(3396, 128)\n",
      "Using device: cuda\n",
      "Calculating embeddings for Hyena_DNA\n",
      "/scratch/ssd004/scratch/pmillana/embeddings/embeddings/BIOSCAN-5M/Hyena_DNA/supervised_train.pickle\n",
      "We found the file /scratch/ssd004/scratch/pmillana/embeddings/embeddings/BIOSCAN-5M/Hyena_DNA/supervised_train.pickle. It seems that we have computed the embeddings ... \n",
      "\n",
      "Loading the embeddings from that file\n",
      "(117991, 128)\n",
      "Using device: cuda\n",
      "Calculating embeddings for Hyena_DNA\n",
      "/scratch/ssd004/scratch/pmillana/embeddings/embeddings/BIOSCAN-5M/Hyena_DNA/supervised_test.pickle\n",
      "We found the file /scratch/ssd004/scratch/pmillana/embeddings/embeddings/BIOSCAN-5M/Hyena_DNA/supervised_test.pickle. It seems that we have computed the embeddings ... \n",
      "\n",
      "Loading the embeddings from that file\n",
      "(18348, 128)\n",
      "Using device: cuda\n",
      "Calculating embeddings for Hyena_DNA\n",
      "/scratch/ssd004/scratch/pmillana/embeddings/embeddings/BIOSCAN-5M/Hyena_DNA/supervised_val.pickle\n",
      "We found the file /scratch/ssd004/scratch/pmillana/embeddings/embeddings/BIOSCAN-5M/Hyena_DNA/supervised_val.pickle. It seems that we have computed the embeddings ... \n",
      "\n",
      "Loading the embeddings from that file\n",
      "(6585, 128)\n",
      "Number of trainable parameters: 89190912\n",
      "Using device: cuda\n",
      "Calculating embeddings for DNABERT\n",
      "/scratch/ssd004/scratch/pmillana/embeddings/embeddings/BIOSCAN-5M/DNABERT/unseen.pickle\n",
      "We found the file /scratch/ssd004/scratch/pmillana/embeddings/embeddings/BIOSCAN-5M/DNABERT/unseen.pickle. It seems that we have computed the embeddings ... \n",
      "\n",
      "Loading the embeddings from that file\n",
      "(3396, 768)\n",
      "Using device: cuda\n",
      "Calculating embeddings for DNABERT\n",
      "/scratch/ssd004/scratch/pmillana/embeddings/embeddings/BIOSCAN-5M/DNABERT/supervised_train.pickle\n",
      "We found the file /scratch/ssd004/scratch/pmillana/embeddings/embeddings/BIOSCAN-5M/DNABERT/supervised_train.pickle. It seems that we have computed the embeddings ... \n",
      "\n",
      "Loading the embeddings from that file\n",
      "(117991, 768)\n",
      "Using device: cuda\n",
      "Calculating embeddings for DNABERT\n",
      "/scratch/ssd004/scratch/pmillana/embeddings/embeddings/BIOSCAN-5M/DNABERT/supervised_test.pickle\n",
      "We found the file /scratch/ssd004/scratch/pmillana/embeddings/embeddings/BIOSCAN-5M/DNABERT/supervised_test.pickle. It seems that we have computed the embeddings ... \n",
      "\n",
      "Loading the embeddings from that file\n",
      "(18348, 768)\n",
      "Using device: cuda\n",
      "Calculating embeddings for DNABERT\n",
      "/scratch/ssd004/scratch/pmillana/embeddings/embeddings/BIOSCAN-5M/DNABERT/supervised_val.pickle\n",
      "We found the file /scratch/ssd004/scratch/pmillana/embeddings/embeddings/BIOSCAN-5M/DNABERT/supervised_val.pickle. It seems that we have computed the embeddings ... \n",
      "\n",
      "Loading the embeddings from that file\n",
      "(6585, 768)\n"
     ]
    }
   ],
   "source": [
    "import sys\n",
    "import os\n",
    "sys.path.append('.')\n",
    "from baselines.datasets import representations_from_df, labels_from_df \n",
    "from baselines.io import load_baseline_model\n",
    "\n",
    "data_folder = \"BIOSCAN_5M_DNA_experiments/data\"\n",
    " \n",
    "#\"BarcodeBERT_soft_penalty/data\"\n",
    "\n",
    "for model_name in [\"BarcodeBERT\", \"DNABERT-2\", \"DNABERT-S\", \"NT\", \"Hyena_DNA\", \"DNABERT\"]:\n",
    "    if model_name == \"BarcodeBERT\":\n",
    "        checkpoints = {\"BarcodeBERT-5M\":\"/h/pmillana/projects/BIOSCAN_5M_DNA_experiments/model_checkpoints/8_4_4/checkpoint_pretraining.pt\",\n",
    "                       #\"BarcodeBERT-1.5M\":\"/scratch/ssd004/scratch/pmillana/checkpoints/canada-1.5M/k4-4-4_w1.0_m1.0_r0.0.pt\",\n",
    "                      }\n",
    "        \n",
    "        for ckpt_name in checkpoints:\n",
    "            checkpoint = checkpoints[ckpt_name]\n",
    "            embedder = load_baseline_model(model_name, checkpoint_path=checkpoint, new_vocab=False)\n",
    "\n",
    "            print(ckpt_name)\n",
    "\n",
    "            embedder.name = model_name\n",
    "            \n",
    "            # Ensure model is in eval mode\n",
    "            embedder.model.eval()\n",
    "        \n",
    "            trainable_params = sum(\tp.numel() for p in embedder.model.parameters() if p.requires_grad)\n",
    "        \n",
    "            print(f\"Number of trainable parameters: {trainable_params}\")\n",
    "            \n",
    "            for file in [\"unseen\", \"supervised_train\", \"supervised_test\", \"supervised_val\"]: \n",
    "                filename = f\"/h/pmillana/projects/{data_folder}/{file}.csv\"\n",
    "                embeddings = representations_from_df(filename, embedder, dataset=\"BIOSCAN-5M\", target=\"processid\") #dataset= \"BIOSCAN-5M\"\n",
    "                print(embeddings.shape)\n",
    "\n",
    "            os.rename(f\"/scratch/ssd004/scratch/pmillana/embeddings/embeddings/BIOSCAN-5M/BarcodeBERT\", \n",
    "                      f\"/scratch/ssd004/scratch/pmillana/embeddings/embeddings/BIOSCAN-5M/{ckpt_name}\")\n",
    "            \n",
    "    else:\n",
    "        embedder = load_baseline_model(model_name)\n",
    "    \n",
    "        embedder.name = model_name\n",
    "        \n",
    "        # Ensure model is in eval mode\n",
    "        embedder.model.eval()\n",
    "    \n",
    "        trainable_params = sum(\tp.numel() for p in embedder.model.parameters() if p.requires_grad)\n",
    "    \n",
    "        print(f\"Number of trainable parameters: {trainable_params}\")\n",
    "        \n",
    "        for file in [\"unseen\", \"supervised_train\", \"supervised_test\", \"supervised_val\"]: \n",
    "            filename = f\"/h/pmillana/projects/{data_folder}/{file}.csv\"\n",
    "            embeddings = representations_from_df(filename, embedder, dataset=\"BIOSCAN-5M\") #dataset= \"BIOSCAN-5M\"\n",
    "            print(embeddings.shape)"
   ]
  },
  {
   "cell_type": "markdown",
   "id": "d6c6718c-53f4-40c8-92b4-df5785a1948b",
   "metadata": {},
   "source": [
    "### This notebook Compares the embedding performance on the 'BIOSCAN-5M' dataset, of seven different DNA barcode-based models: BarcodeBERT-1M, BarcodeBERT-5M, DNABERT, DNABERT-2, DNABERT-S, Hyena_DNA and NT. To demonstrate each model's performance, a KNN (K-Nearest-Neighbor) analysis of the embeddings produced by each model is completed and the results are plotted."
   ]
  },
  {
   "cell_type": "code",
   "execution_count": 2,
   "id": "dc2971b2-f24a-41f8-8155-ffc35fbe23b2",
   "metadata": {},
   "outputs": [],
   "source": [
    "%matplotlib inline\n",
    "import os\n",
    "import pickle\n",
    "import cProfile\n",
    "import pstats\n",
    "import warnings\n",
    "\n",
    "import numpy as np\n",
    "import sklearn\n",
    "from sklearn.neighbors import KNeighborsClassifier, KDTree\n",
    "from scipy.spatial import distance\n",
    "from matplotlib import pyplot as plt\n",
    "from obj_knn import FinBOL_GBOL\n",
    "from tqdm import tqdm\n",
    "\n",
    "warnings.filterwarnings(\"ignore\")\n",
    "\n",
    "dataset = \"BIOSCAN-5M\"\n",
    "data_folder = \"BIOSCAN_5M_DNA_experiments/data\""
   ]
  },
  {
   "cell_type": "markdown",
   "id": "12c832d9-c6b0-4008-a8db-4cc40438127a",
   "metadata": {},
   "source": [
    "### Each sample is labeled at seven taxonomic ranks: class, order, family, subfamily, tribe, genus, and species. "
   ]
  },
  {
   "cell_type": "code",
   "execution_count": 3,
   "id": "11db4831-2ade-4dd4-8d68-f47a93c66bb4",
   "metadata": {},
   "outputs": [],
   "source": [
    "rank_list = [\"class\", \"order\", \"family\", \"genus\"]\n",
    "encoders = [\"BarcodeBERT-5M\", \"BarcodeBERT-1.5M\", \"DNABERT-2\", \"DNABERT-S\", \"Hyena_DNA\", \"NT\", \"DNABERT\"]\n",
    "\n",
    "# Creating the embeddings dictionary to hold all the FinBOL vs GBOL embedding/label data \n",
    "embeddings = {}\n",
    "for encoder in encoders:\n",
    "    embeddings[encoder] = {}"
   ]
  },
  {
   "cell_type": "markdown",
   "id": "26ff05da-a071-4014-9454-47615bb4b1f4",
   "metadata": {},
   "source": [
    "### The 'FinBOL VS GBOL' dataset consists of two subsets: FinBOL, which consists of 35,623 DNA barcode samples from Finland, and GBOL, which contains 27,071 samples from Germany. for the purposes of this demonstration the FinBOL and GBOL partitions will be denoted as 'Train' and 'Test' within the code respectively."
   ]
  },
  {
   "cell_type": "code",
   "execution_count": 4,
   "id": "e3be74c3-42d5-4587-9622-af7d6d85bd80",
   "metadata": {},
   "outputs": [
    {
     "name": "stdout",
     "output_type": "stream",
     "text": [
      "Partition lengths:\n",
      "Train:  117991\n",
      "Test:  3396\n"
     ]
    }
   ],
   "source": [
    "for encoder in encoders:\n",
    "    # reading the FinBOL embeddings\n",
    "    embeddings_folder = f\"/scratch/ssd004/scratch/pmillana/embeddings/embeddings/{dataset}\"\n",
    "    with open(f\"{embeddings_folder}/{encoder}/supervised_train.pickle\", \"rb\") as train_handle:\n",
    "        embeddings[encoder][\"Train\"] = pickle.load(train_handle)\n",
    "\n",
    "    # reading the GBOL embeddings\n",
    "    with open(f\"{embeddings_folder}/{encoder}/unseen.pickle\", \"rb\") as test_handle:\n",
    "        embeddings[encoder][\"Test\"] = pickle.load(test_handle)\n",
    "\n",
    "print('Partition lengths:')\n",
    "print(\"Train: \", len(embeddings[encoder][\"Train\"]['ids']))\n",
    "print(\"Test: \", len(embeddings[encoder][\"Test\"]['ids']))\n"
   ]
  },
  {
   "cell_type": "markdown",
   "id": "3034cfca-ecb9-45a8-8688-45b5726e81d7",
   "metadata": {},
   "source": [
    "### Each model encodes a different represenation of the data it was given. To see this, and check that all the data from each model was downloaded properly, a small slice of each encoder's first three embeddings is shown below."
   ]
  },
  {
   "cell_type": "code",
   "execution_count": 5,
   "id": "837fc9a6-974a-4a53-a7cf-56bf17d2f5f4",
   "metadata": {},
   "outputs": [
    {
     "name": "stdout",
     "output_type": "stream",
     "text": [
      "BarcodeBERT-5M\n",
      "[ 0.09214871 -0.28794685  0.53928757  0.9168416   1.3121055 ]\n",
      "[ 0.831489   -0.3615735   0.76890117  1.3734493   1.3992038 ]\n",
      "[ 1.4686996  -1.5243493  -0.38512456 -0.9432046   1.3044655 ]\n",
      "\n",
      "BarcodeBERT-1.5M\n",
      "[-0.53626347  0.09011476  0.42271817 -0.48337653 -0.4285088 ]\n",
      "[ 0.63842535  0.4025818   0.48704904 -0.5684968  -0.02414471]\n",
      "[-0.2542615   0.9730221  -0.78906757  0.8005601  -0.78792286]\n",
      "\n",
      "DNABERT-2\n",
      "[-0.04637298  0.04902313  0.08496991 -0.23243466 -0.05571817]\n",
      "[-0.057013    0.09968127  0.04312181 -0.10065868 -0.08347727]\n",
      "[-0.02494159  0.09553736  0.20338997 -0.29023287  0.10629106]\n",
      "\n",
      "DNABERT-S\n",
      "[-0.1597295   0.02266525  0.08694088 -0.04299423 -0.04086146]\n",
      "[-0.14647585  0.0559435  -0.02330555 -0.10474078  0.06707122]\n",
      "[-0.08246402  0.07391788  0.05502942 -0.12959167  0.02660595]\n",
      "\n",
      "Hyena_DNA\n",
      "[-0.8045766   0.29781792 -0.6705309   5.24395     0.38879412]\n",
      "[-0.80563927  0.28470957 -0.7307025   5.2341      0.42421266]\n",
      "[-0.74916196  0.27695835 -0.64270693  5.2096686   0.40003225]\n",
      "\n",
      "NT\n",
      "[-0.14392303  0.75716996  0.6282068  -0.05375113  0.29617667]\n",
      "[-0.08898286  0.6958698   0.62961125  0.00886377  0.3603683 ]\n",
      "[-0.17716072  0.7763214   0.5419914  -0.07913985  0.3378939 ]\n",
      "\n",
      "DNABERT\n",
      "[-0.12017755  0.7611435  -0.2800275  -0.39912522  0.2700187 ]\n",
      "[ 0.00821417  0.78400403 -0.39637092 -0.45196673  0.36031836]\n",
      "[-0.14040045  0.6862374  -0.24601917 -0.37729567  0.28495666]\n",
      "\n"
     ]
    }
   ],
   "source": [
    "# checking embeddings have been loaded correctly for each model\n",
    "for encoder in encoders:\n",
    "    print(encoder)\n",
    "    for x in (embeddings[encoder][\"Train\"]['data'][0:3]):\n",
    "        print(x[0:5])\n",
    "    print('')"
   ]
  },
  {
   "cell_type": "markdown",
   "id": "cc06d6f8-c88e-45e1-8627-8046456bf268",
   "metadata": {},
   "source": [
    "### After reading the embedding files from each model, the labels associated with each embeddings must be further processed in order to be used in the KNN analysis. A single sample from the file contains a 'data' segment (the embedding), and a 'ids' segments which contains a label that holds several different kinds of information about that specific sample. It is this 'ids' segment that must be seperated into several more specific segments including the label of that sample at each of the seven taxonomic ranks listed above."
   ]
  },
  {
   "cell_type": "code",
   "execution_count": 6,
   "id": "0f298101-7bb2-41ce-989f-4cfadd8da978",
   "metadata": {},
   "outputs": [],
   "source": [
    "import pandas as pd\n",
    "\n",
    "train = pd.read_csv(f\"/h/pmillana/projects/{data_folder}/supervised_train.csv\")\n",
    "test = pd.read_csv(f\"/h/pmillana/projects/{data_folder}/unseen.csv\")\n",
    "\n",
    "df_dict = {'Train': train, 'Test':test}\n",
    "\n",
    "for encoder in encoders:\n",
    "    for part in ('Train', 'Test'):\n",
    "        df = df_dict[part]\n",
    "        for rank in rank_list:\n",
    "            if rank != 'class':\n",
    "                taxa = rank + '_name'\n",
    "            else:\n",
    "                taxa = rank\n",
    "            processid_to_taxa = dict(zip(df['processid'], df[taxa]))\n",
    "            # extract label at each taxonomic rank\n",
    "            embeddings[encoder][part][rank] = [processid_to_taxa.get(processid, None) for processid in embeddings[encoder][part]['ids']]"
   ]
  },
  {
   "cell_type": "markdown",
   "id": "5977504e-99ec-4952-9f17-1127dabadc28",
   "metadata": {},
   "source": [
    "### After processing the initial label, each sample now has 10 distinct labels that can be used to group and identify them. Below is an example of the labels concerning the first sample of the FinBOL dataset"
   ]
  },
  {
   "cell_type": "code",
   "execution_count": 7,
   "id": "7ab3ba62-fa27-4689-bd2f-6c8370967567",
   "metadata": {},
   "outputs": [
    {
     "name": "stdout",
     "output_type": "stream",
     "text": [
      "ids:        YDBB5936-21\n",
      "class:      Arachnida\n",
      "order:      Mesostigmata\n",
      "family:     Trachytidae\n",
      "genus:      Polyaspinus\n"
     ]
    }
   ],
   "source": [
    "# displaying all the new labels\n",
    "for x in embeddings['NT']['Train'].keys():\n",
    "    if x != 'data':\n",
    "        print(f\"{x}:{' '*(10-len(x))}\" ,embeddings['Hyena_DNA']['Train'][x][13])"
   ]
  },
  {
   "cell_type": "code",
   "execution_count": 8,
   "id": "939c9389-4894-4c7c-a10f-ea50639a5625",
   "metadata": {},
   "outputs": [
    {
     "data": {
      "text/html": [
       "<div>\n",
       "<style scoped>\n",
       "    .dataframe tbody tr th:only-of-type {\n",
       "        vertical-align: middle;\n",
       "    }\n",
       "\n",
       "    .dataframe tbody tr th {\n",
       "        vertical-align: top;\n",
       "    }\n",
       "\n",
       "    .dataframe thead th {\n",
       "        text-align: right;\n",
       "    }\n",
       "</style>\n",
       "<table border=\"1\" class=\"dataframe\">\n",
       "  <thead>\n",
       "    <tr style=\"text-align: right;\">\n",
       "      <th></th>\n",
       "      <th>processid</th>\n",
       "      <th>phylum</th>\n",
       "      <th>class</th>\n",
       "      <th>order_name</th>\n",
       "      <th>family_name</th>\n",
       "      <th>subfamily_name</th>\n",
       "      <th>genus_name</th>\n",
       "      <th>species_name</th>\n",
       "      <th>dna_bin</th>\n",
       "      <th>nucleotides</th>\n",
       "      <th>split</th>\n",
       "      <th>phylum_index</th>\n",
       "      <th>class_index</th>\n",
       "      <th>order_index</th>\n",
       "      <th>family_index</th>\n",
       "      <th>subfamily_index</th>\n",
       "      <th>genus_index</th>\n",
       "      <th>species_index</th>\n",
       "      <th>dna_bin_index</th>\n",
       "    </tr>\n",
       "  </thead>\n",
       "  <tbody>\n",
       "    <tr>\n",
       "      <th>13</th>\n",
       "      <td>YDBB5936-21</td>\n",
       "      <td>Arthropoda</td>\n",
       "      <td>Arachnida</td>\n",
       "      <td>Mesostigmata</td>\n",
       "      <td>Trachytidae</td>\n",
       "      <td>unassigned Trachytidae</td>\n",
       "      <td>Polyaspinus</td>\n",
       "      <td>Polyaspinus higginsi</td>\n",
       "      <td>BOLD:AEN4118</td>\n",
       "      <td>TATATATTTAGTATTCAGAGCATGAGCTGGAATAGCTGGAACAGCT...</td>\n",
       "      <td>train</td>\n",
       "      <td>0</td>\n",
       "      <td>0</td>\n",
       "      <td>10</td>\n",
       "      <td>269</td>\n",
       "      <td>305</td>\n",
       "      <td>422</td>\n",
       "      <td>426</td>\n",
       "      <td>4670</td>\n",
       "    </tr>\n",
       "  </tbody>\n",
       "</table>\n",
       "</div>"
      ],
      "text/plain": [
       "      processid      phylum      class    order_name  family_name  \\\n",
       "13  YDBB5936-21  Arthropoda  Arachnida  Mesostigmata  Trachytidae   \n",
       "\n",
       "            subfamily_name   genus_name          species_name       dna_bin  \\\n",
       "13  unassigned Trachytidae  Polyaspinus  Polyaspinus higginsi  BOLD:AEN4118   \n",
       "\n",
       "                                          nucleotides  split  phylum_index  \\\n",
       "13  TATATATTTAGTATTCAGAGCATGAGCTGGAATAGCTGGAACAGCT...  train             0   \n",
       "\n",
       "    class_index  order_index  family_index  subfamily_index  genus_index  \\\n",
       "13            0           10           269              305          422   \n",
       "\n",
       "    species_index  dna_bin_index  \n",
       "13            426           4670  "
      ]
     },
     "execution_count": 8,
     "metadata": {},
     "output_type": "execute_result"
    }
   ],
   "source": [
    "df_dict['Train'][df_dict['Train'][\"processid\"]==\"YDBB5936-21\"]"
   ]
  },
  {
   "cell_type": "markdown",
   "id": "5bf3bdd5-dd54-4a5b-87ef-83cdab41b570",
   "metadata": {},
   "source": [
    "### A single dictionary called 'embeddings' now holds all the data and labels associated with each sample, for each partition, for each model. This example shows the general tree structure for how the data is accessed for each model where each key holds another dictionary except for those at the lowest level which are lists."
   ]
  },
  {
   "cell_type": "code",
   "execution_count": 9,
   "id": "7bfc79d5-1152-4e16-82be-afcb551d481c",
   "metadata": {},
   "outputs": [
    {
     "name": "stdout",
     "output_type": "stream",
     "text": [
      "dict_keys(['BarcodeBERT-5M', 'BarcodeBERT-1.5M', 'DNABERT-2', 'DNABERT-S', 'Hyena_DNA', 'NT', 'DNABERT'])\n",
      "dict_keys(['Train', 'Test'])\n",
      "dict_keys(['data', 'ids', 'class', 'order', 'family', 'genus'])\n"
     ]
    }
   ],
   "source": [
    "print(embeddings.keys())\n",
    "print(embeddings['NT'].keys())\n",
    "print(embeddings['NT']['Test'].keys())"
   ]
  },
  {
   "cell_type": "markdown",
   "id": "a4fddc39-450d-4596-9305-cc4f664967c6",
   "metadata": {},
   "source": [
    "# KNN Analysis\n",
    "the results following the section as well as the associated output files for each model have been made using k=10 for the KNN analysis"
   ]
  },
  {
   "cell_type": "code",
   "execution_count": 10,
   "id": "73734663-fb80-4c4b-a149-1f948531c626",
   "metadata": {},
   "outputs": [
    {
     "name": "stderr",
     "output_type": "stream",
     "text": [
      "BarcodeBERT-5M :  25%|██▌       | 1/4 [00:17<00:52, 17.60s/it]"
     ]
    },
    {
     "name": "stdout",
     "output_type": "stream",
     "text": [
      "99.64664310954063\n"
     ]
    },
    {
     "name": "stderr",
     "output_type": "stream",
     "text": [
      "BarcodeBERT-5M :  50%|█████     | 2/4 [00:34<00:34, 17.04s/it]"
     ]
    },
    {
     "name": "stdout",
     "output_type": "stream",
     "text": [
      "99.17550058892816\n"
     ]
    },
    {
     "name": "stderr",
     "output_type": "stream",
     "text": [
      "BarcodeBERT-5M :  75%|███████▌  | 3/4 [00:51<00:17, 17.13s/it]"
     ]
    },
    {
     "name": "stdout",
     "output_type": "stream",
     "text": [
      "91.96113074204946\n"
     ]
    },
    {
     "name": "stderr",
     "output_type": "stream",
     "text": [
      "BarcodeBERT-5M : 100%|██████████| 4/4 [01:12<00:00, 18.23s/it]\n"
     ]
    },
    {
     "name": "stdout",
     "output_type": "stream",
     "text": [
      "47.02591283863369\n"
     ]
    },
    {
     "name": "stderr",
     "output_type": "stream",
     "text": [
      "BarcodeBERT-1.5M:  25%|██▌       | 1/4 [00:16<00:50, 16.89s/it]"
     ]
    },
    {
     "name": "stdout",
     "output_type": "stream",
     "text": [
      "99.97055359246173\n"
     ]
    },
    {
     "name": "stderr",
     "output_type": "stream",
     "text": [
      "BarcodeBERT-1.5M:  50%|█████     | 2/4 [00:34<00:34, 17.40s/it]"
     ]
    },
    {
     "name": "stdout",
     "output_type": "stream",
     "text": [
      "99.88221436984688\n"
     ]
    },
    {
     "name": "stderr",
     "output_type": "stream",
     "text": [
      "BarcodeBERT-1.5M:  75%|███████▌  | 3/4 [00:52<00:17, 17.56s/it]"
     ]
    },
    {
     "name": "stdout",
     "output_type": "stream",
     "text": [
      "91.07773851590106\n"
     ]
    },
    {
     "name": "stderr",
     "output_type": "stream",
     "text": [
      "BarcodeBERT-1.5M: 100%|██████████| 4/4 [01:14<00:00, 18.56s/it]\n"
     ]
    },
    {
     "name": "stdout",
     "output_type": "stream",
     "text": [
      "40.95995288574794\n"
     ]
    },
    {
     "name": "stderr",
     "output_type": "stream",
     "text": [
      "DNABERT-2      :  25%|██▌       | 1/4 [00:17<00:51, 17.08s/it]"
     ]
    },
    {
     "name": "stdout",
     "output_type": "stream",
     "text": [
      "97.7326266195524\n"
     ]
    },
    {
     "name": "stderr",
     "output_type": "stream",
     "text": [
      "DNABERT-2      :  50%|█████     | 2/4 [00:34<00:34, 17.03s/it]"
     ]
    },
    {
     "name": "stdout",
     "output_type": "stream",
     "text": [
      "83.45111896348646\n"
     ]
    },
    {
     "name": "stderr",
     "output_type": "stream",
     "text": [
      "DNABERT-2      :  75%|███████▌  | 3/4 [00:51<00:17, 17.26s/it]"
     ]
    },
    {
     "name": "stdout",
     "output_type": "stream",
     "text": [
      "49.8527679623086\n"
     ]
    },
    {
     "name": "stderr",
     "output_type": "stream",
     "text": [
      "DNABERT-2      : 100%|██████████| 4/4 [01:14<00:00, 18.51s/it]\n"
     ]
    },
    {
     "name": "stdout",
     "output_type": "stream",
     "text": [
      "16.07773851590106\n"
     ]
    },
    {
     "name": "stderr",
     "output_type": "stream",
     "text": [
      "DNABERT-S      :  25%|██▌       | 1/4 [00:16<00:49, 16.37s/it]"
     ]
    },
    {
     "name": "stdout",
     "output_type": "stream",
     "text": [
      "97.37926972909305\n"
     ]
    },
    {
     "name": "stderr",
     "output_type": "stream",
     "text": [
      "DNABERT-S      :  50%|█████     | 2/4 [00:33<00:33, 16.74s/it]"
     ]
    },
    {
     "name": "stdout",
     "output_type": "stream",
     "text": [
      "87.10247349823321\n"
     ]
    },
    {
     "name": "stderr",
     "output_type": "stream",
     "text": [
      "DNABERT-S      :  75%|███████▌  | 3/4 [00:50<00:17, 17.03s/it]"
     ]
    },
    {
     "name": "stdout",
     "output_type": "stream",
     "text": [
      "56.03651354534747\n"
     ]
    },
    {
     "name": "stderr",
     "output_type": "stream",
     "text": [
      "DNABERT-S      : 100%|██████████| 4/4 [01:12<00:00, 18.11s/it]\n"
     ]
    },
    {
     "name": "stdout",
     "output_type": "stream",
     "text": [
      "18.050647820965843\n"
     ]
    },
    {
     "name": "stderr",
     "output_type": "stream",
     "text": [
      "Hyena_DNA      :  25%|██▌       | 1/4 [00:09<00:27,  9.25s/it]"
     ]
    },
    {
     "name": "stdout",
     "output_type": "stream",
     "text": [
      "96.73144876325088\n"
     ]
    },
    {
     "name": "stderr",
     "output_type": "stream",
     "text": [
      "Hyena_DNA      :  50%|█████     | 2/4 [00:18<00:18,  9.25s/it]"
     ]
    },
    {
     "name": "stdout",
     "output_type": "stream",
     "text": [
      "89.72320376914017\n"
     ]
    },
    {
     "name": "stderr",
     "output_type": "stream",
     "text": [
      "Hyena_DNA      :  75%|███████▌  | 3/4 [00:28<00:09,  9.39s/it]"
     ]
    },
    {
     "name": "stdout",
     "output_type": "stream",
     "text": [
      "60.39458186101295\n"
     ]
    },
    {
     "name": "stderr",
     "output_type": "stream",
     "text": [
      "Hyena_DNA      : 100%|██████████| 4/4 [00:42<00:00, 10.59s/it]\n"
     ]
    },
    {
     "name": "stdout",
     "output_type": "stream",
     "text": [
      "20.49469964664311\n"
     ]
    },
    {
     "name": "stderr",
     "output_type": "stream",
     "text": [
      "NT             :  25%|██▌       | 1/4 [00:14<00:42, 14.06s/it]"
     ]
    },
    {
     "name": "stdout",
     "output_type": "stream",
     "text": [
      "97.96819787985865\n"
     ]
    },
    {
     "name": "stderr",
     "output_type": "stream",
     "text": [
      "NT             :  50%|█████     | 2/4 [00:28<00:28, 14.27s/it]"
     ]
    },
    {
     "name": "stdout",
     "output_type": "stream",
     "text": [
      "89.5170789163722\n"
     ]
    },
    {
     "name": "stderr",
     "output_type": "stream",
     "text": [
      "NT             :  75%|███████▌  | 3/4 [00:42<00:14, 14.25s/it]"
     ]
    },
    {
     "name": "stdout",
     "output_type": "stream",
     "text": [
      "58.00942285041225\n"
     ]
    },
    {
     "name": "stderr",
     "output_type": "stream",
     "text": [
      "NT             : 100%|██████████| 4/4 [01:01<00:00, 15.42s/it]\n"
     ]
    },
    {
     "name": "stdout",
     "output_type": "stream",
     "text": [
      "19.994110718492344\n"
     ]
    },
    {
     "name": "stderr",
     "output_type": "stream",
     "text": [
      "DNABERT        :  25%|██▌       | 1/4 [00:16<00:50, 16.93s/it]"
     ]
    },
    {
     "name": "stdout",
     "output_type": "stream",
     "text": [
      "97.85041224970553\n"
     ]
    },
    {
     "name": "stderr",
     "output_type": "stream",
     "text": [
      "DNABERT        :  50%|█████     | 2/4 [00:34<00:34, 17.03s/it]"
     ]
    },
    {
     "name": "stdout",
     "output_type": "stream",
     "text": [
      "93.96348645465254\n"
     ]
    },
    {
     "name": "stderr",
     "output_type": "stream",
     "text": [
      "DNABERT        :  75%|███████▌  | 3/4 [00:52<00:17, 17.53s/it]"
     ]
    },
    {
     "name": "stdout",
     "output_type": "stream",
     "text": [
      "65.5771495877503\n"
     ]
    },
    {
     "name": "stderr",
     "output_type": "stream",
     "text": [
      "DNABERT        : 100%|██████████| 4/4 [01:14<00:00, 18.50s/it]"
     ]
    },
    {
     "name": "stdout",
     "output_type": "stream",
     "text": [
      "25.94228504122497\n"
     ]
    },
    {
     "name": "stderr",
     "output_type": "stream",
     "text": [
      "\n"
     ]
    }
   ],
   "source": [
    "# dictionaries for storing results and knn probability data\n",
    "results = {}\n",
    "label_probs = {}\n",
    "\n",
    "for encoder in encoders:\n",
    "    results[encoder] = {}\n",
    "\n",
    "    # using tqdm to display progress bar for each model\n",
    "    for i in tqdm(range(len(rank_list)),desc=f\"{encoder}{' '*(15-len(encoder))}\"):\n",
    "        rank=rank_list[i]\n",
    "        results[encoder][rank] = {}\n",
    "\n",
    "        # creating a number mapping for the labels at the current taxonomic rank to use for knn analysis\n",
    "        all_labels = sorted(list(set(embeddings[encoder]['Test'][rank]+embeddings[encoder]['Train'][rank])))\n",
    "        embeddings[encoder]['Train']['mapped_y_train'] = np.array([all_labels.index(el) for el in embeddings[encoder]['Train'][rank]])\n",
    "        embeddings[encoder]['Test']['mapped_y_test'] = np.array([all_labels.index(el) for el in embeddings[encoder]['Test'][rank]])\n",
    "\n",
    "        # creating and initializing the KNN classifier with k=10, leaf size=2000 and using maximum number of threads for analysis\n",
    "        clf = KNeighborsClassifier(n_neighbors=1, n_jobs=36, metric=\"cosine\")\n",
    "        clf.fit(embeddings[encoder]['Train']['data'], embeddings[encoder]['Train']['mapped_y_train'])\n",
    "        \n",
    "        for partition_name, X_part, y_part in [#('Train', embeddings[encoder]['Train']['data'], embeddings[encoder]['Train']['mapped_y_train']),\n",
    "                                               ('Test', embeddings[encoder]['Test']['data'], embeddings[encoder]['Test']['mapped_y_test'])]:\n",
    "            \n",
    "            # set of possible labels the classifier can choose from\n",
    "            curr_labels = sorted(list(set(embeddings[encoder]['Train'][rank])))\n",
    "\n",
    "            y_pred = clf.predict(X_part)\n",
    "            pred_labels = [all_labels.index(curr_labels[i]) for i in y_pred]\n",
    "\n",
    "            # record accuracy metrics\n",
    "            res_part = {}\n",
    "            res_part[\"count\"] = len(y_part)\n",
    "            # Note that these evaluation metrics have all been converted to percentages\n",
    "            res_part[\"accuracy\"] = 100.0 * sklearn.metrics.accuracy_score(y_part, pred_labels)\n",
    "            res_part[\"accuracy-balanced\"] = 100.0 * sklearn.metrics.balanced_accuracy_score(y_part, pred_labels)\n",
    "            res_part[\"f1-micro\"] = 100.0 * sklearn.metrics.f1_score(y_part, pred_labels, average=\"micro\")\n",
    "            res_part[\"f1-macro\"] = 100.0 * sklearn.metrics.f1_score(y_part, pred_labels, average=\"macro\")\n",
    "            res_part[\"f1-support\"] = 100.0 * sklearn.metrics.f1_score(y_part, pred_labels, average=\"weighted\")\n",
    "            results[encoder][rank][partition_name] = res_part\n",
    "            print(res_part[\"accuracy\"])\n",
    "            "
   ]
  },
  {
   "cell_type": "markdown",
   "id": "e5c7815b-8331-47a5-be58-0b90084bdfad",
   "metadata": {},
   "source": [
    "# Results\n",
    "### The results of the KNN analysis are shown below in two different formats\n",
    "NOTE: The metric displayed in the graphs below is accuracy. Several other metrics have been calculated such as the balanced accuracy, all of which are stored in the 'results' dictionary."
   ]
  },
  {
   "cell_type": "code",
   "execution_count": 11,
   "id": "b7e69d2a-c1b3-4fd7-bc15-380e7cc2e0d9",
   "metadata": {},
   "outputs": [],
   "source": [
    "import json\n",
    "with open(f\"results_{dataset}.json\", \"w\") as f:\n",
    "    json.dump(results, f)"
   ]
  },
  {
   "cell_type": "code",
   "execution_count": 12,
   "id": "c81b18bc-c1f9-4ebd-8548-deba1c7241ff",
   "metadata": {},
   "outputs": [
    {
     "data": {
      "image/png": "[encoded data removed]",
      "text/plain": [
       "<Figure size 640x480 with 1 Axes>"
      ]
     },
     "metadata": {},
     "output_type": "display_data"
    }
   ],
   "source": [
    "%matplotlib inline\n",
    "import os\n",
    "import pickle\n",
    "import cProfile\n",
    "import pstats\n",
    "import warnings\n",
    "\n",
    "import numpy as np\n",
    "import sklearn\n",
    "from sklearn.neighbors import KNeighborsClassifier, KDTree\n",
    "from scipy.spatial import distance\n",
    "from matplotlib import pyplot as plt\n",
    "from obj_knn import FinBOL_GBOL\n",
    "from tqdm import tqdm\n",
    "\n",
    "warnings.filterwarnings(\"ignore\")\n",
    "\n",
    "dataset = \"BIOSCAN-5M\"\n",
    "#data_folder = \"BIOSCAN_5M_DNA_experiments/data\"\n",
    "\n",
    "import json\n",
    "\n",
    "with open(f\"results_{dataset}.json\", \"r\") as f:\n",
    "    results = json.load(f)\n",
    "\n",
    "rank_list = [\"class\", \"order\", \"family\", \"genus\"]\n",
    "encoders = [\"BarcodeBERT-5M\", \"DNABERT-2\", \"DNABERT-S\", \"Hyena_DNA\", \"NT\"]#, \"DNABERT\"]\n",
    "\n",
    "x = np.arange(len(rank_list))  # the label locations\n",
    "encoders = sorted(encoders,key=lambda x:results[x]['class']['Test']['accuracy'],reverse=True)\n",
    "width = 0.15  # the width of the bars\n",
    "multiplier = -1\n",
    "\n",
    "graph = {}\n",
    "for encoder in encoders:\n",
    "    graph[encoder] = [round(results[encoder][rank]['Test']['accuracy'], 2) for rank in rank_list]\n",
    "\n",
    "fig, ax = plt.subplots(layout='constrained')\n",
    "\n",
    "for rank, measurement in graph.items():\n",
    "    offset = width * multiplier\n",
    "    rects = ax.bar(x + offset, measurement, width, label=rank)\n",
    "    multiplier += 1\n",
    "\n",
    "for i in range(len(x)):\n",
    "    for j, encoder in enumerate(encoders):\n",
    "        plt.text(i+offset+(j-multiplier)*(width)+0.1, graph[encoder][i], graph[encoder][i], ha='center', rotation=60, fontsize='x-small')\n",
    "\n",
    "# Add some text for labels, title and custom x-axis tick labels, etc.\n",
    "ax.set_ylabel('Accuracy (%)')\n",
    "ax.set_xlabel('Rank')\n",
    "\n",
    "ax.set_title('BIOSCAN-5m 1-KNN encoder comparison')\n",
    "ax.set_xticks(x + width, rank_list)\n",
    "ax.legend(loc='upper right', ncols=2)\n",
    "ax.set_ylim(0, 110)\n",
    "plt.grid(axis=\"y\")\n",
    "\n",
    "plt.show()\n"
   ]
  },
  {
   "cell_type": "code",
   "execution_count": 14,
   "id": "ffa782ca-45e3-4193-a3f8-e409a4103c4d",
   "metadata": {},
   "outputs": [
    {
     "name": "stderr",
     "output_type": "stream",
     "text": [
      "The PostScript backend does not support transparency; partially transparent artists will be rendered opaque.\n"
     ]
    },
    {
     "data": {
      "image/png": "[encoded data removed]",
      "text/plain": [
       "<Figure size 640x480 with 1 Axes>"
      ]
     },
     "metadata": {},
     "output_type": "display_data"
    }
   ],
   "source": [
    "import matplotlib.pyplot as plt\n",
    "import json\n",
    "\n",
    "\n",
    "plt.rcParams[\"font.family\"] = \"serif\"\n",
    "plt.rcParams['axes.prop_cycle'] = plt.cycler(color=[\"#C154A0\", \"#6495ED\", \"#FFBF00\", \"#922B21\", \"#1E8449\", \"#40E0D0\", \"#C18420\"])\n",
    "\n",
    "\n",
    "encoders = [\"DNABERT-2\", \"DNABERT-S\", \"NT\", \"Hyena_DNA\",  \"BarcodeBERT-5M\"] #, \"BarcodeBERT-1.5M\"]\n",
    "\n",
    "for encoder in encoders:\n",
    "    plt.plot(rank_list, graph[encoder],\"D-\", label = encoder)\n",
    "#plt.title('1NN-probing at different taxonomic levels')\n",
    "plt.xlabel('Rank')\n",
    "plt.ylabel('Accuracy (%)')\n",
    "plt.grid(True)\n",
    "plt.legend()\n",
    "plt.savefig(\"BIOSCAN_5M_KNN_by_rank_cosine.eps\", dpi=150)\n",
    "plt.savefig(\"BIOSCAN_5M_KNN_by_rank_cosine.jpg\", dpi=150)\n",
    "plt.show()"
   ]
  },
  {
   "cell_type": "code",
   "execution_count": 15,
   "id": "1af94a3a-e758-42cb-a033-6433afe097f1",
   "metadata": {},
   "outputs": [
    {
     "name": "stdout",
     "output_type": "stream",
     "text": [
      "(3396, 768)\n",
      "(3396, 768)\n",
      "Allocladius sp. 1ES Phytomyptera Janzen7372\n",
      "(18348, 768)\n",
      "(18349, 768)\n",
      "Glyphidocera fidem Epidamaeus arcticola\n",
      "(3396, 768)\n",
      "(3396, 768)\n",
      "Allocladius sp. 1ES Phytomyptera Janzen7372\n",
      "(18348, 768)\n",
      "(18349, 768)\n",
      "Glyphidocera fidem Epidamaeus arcticola\n",
      "(3396, 768)\n",
      "(3396, 768)\n",
      "Allocladius sp. 1ES Phytomyptera Janzen7372\n",
      "(18348, 768)\n",
      "(18349, 768)\n",
      "Glyphidocera fidem Epidamaeus arcticola\n",
      "(3396, 512)\n",
      "(3396, 512)\n",
      "Allocladius sp. 1ES Phytomyptera Janzen7372\n",
      "(18348, 512)\n",
      "(18349, 512)\n",
      "Glyphidocera fidem Epidamaeus arcticola\n",
      "(3396, 128)\n",
      "(3396, 128)\n",
      "Allocladius sp. 1ES Phytomyptera Janzen7372\n",
      "(18348, 128)\n",
      "(18349, 128)\n",
      "Glyphidocera fidem Epidamaeus arcticola\n"
     ]
    }
   ],
   "source": [
    "import pickle\n",
    "import pandas as pd\n",
    "\n",
    "encoders = [\"BarcodeBERT-5M\", \"DNABERT-2\", \"DNABERT-S\", \"NT\", \"Hyena_DNA\"]\n",
    "experiment_1 = \"BIOSCAN-5M\"\n",
    "experiment_2 = \"paper\"\n",
    "data_folder = \"BIOSCAN_5M_DNA_experiments/data\"\n",
    "\n",
    "for encoder in encoders:\n",
    "    for file in [\"unseen\", \"supervised_test\"]: \n",
    "        filename = f\"/scratch/ssd004/scratch/pmillana/embeddings/embeddings/{experiment_1}/{encoder}/{file}.pickle\"\n",
    "        with open(filename, \"rb\") as handle:\n",
    "            embeddings = pickle.load(handle)\n",
    "            print(embeddings[\"data\"].shape)\n",
    "            processids = embeddings[\"ids\"]\n",
    "\n",
    "        filename = f\"/scratch/ssd004/scratch/pmillana/embeddings/embeddings/{experiment_2}/{encoder}/{file}.pickle\"\n",
    "        with open(filename, \"rb\") as handle:\n",
    "            embeddings = pickle.load(handle)\n",
    "            print(embeddings[\"data\"].shape)\n",
    "            species = embeddings[\"ids\"]\n",
    "\n",
    "        df = pd.read_csv(f\"/h/pmillana/projects/{data_folder}/{file}.csv\")\n",
    "        taxa = 'species_name'\n",
    "        processid_to_taxa = dict(zip(df['processid'], df[taxa]))\n",
    "\n",
    "        new_species = [processid_to_taxa.get(processid, None) for processid in processids]\n",
    "        for i in range(len(processids)):\n",
    "            print(species[i], new_species[i])\n",
    "            if species[i] != new_species[i]:\n",
    "                break\n",
    "                print(i, processids[i])\n",
    "         "
   ]
  },
  {
   "cell_type": "code",
   "execution_count": null,
   "id": "80fd24f2-ed9f-4f83-908d-eb82bd74986b",
   "metadata": {},
   "outputs": [],
   "source": []
  }
 ],
 "metadata": {
  "kernelspec": {
   "display_name": "Python 3.11",
   "language": "python",
   "name": "python3"
  },
  "language_info": {
   "codemirror_mode": {
    "name": "ipython",
    "version": 3
   },
   "file_extension": ".py",
   "mimetype": "text/x-python",
   "name": "python",
   "nbconvert_exporter": "python",
   "pygments_lexer": "ipython3",
   "version": "3.11.5"
  }
 },
 "nbformat": 4,
 "nbformat_minor": 5
}
